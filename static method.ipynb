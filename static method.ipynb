{
 "cells": [
  {
   "cell_type": "code",
   "execution_count": 1,
   "id": "6c9402bc-ea1e-44e7-8b55-9aa55725b3db",
   "metadata": {},
   "outputs": [],
   "source": [
    "class pwskills :\n",
    "    \n",
    "    def student_details(self,name,mail_id,number):\n",
    "        print(name,mail_id,number)"
   ]
  },
  {
   "cell_type": "code",
   "execution_count": 2,
   "id": "1b19f514-1b61-4cd7-be13-c939cfd692dc",
   "metadata": {},
   "outputs": [],
   "source": [
    "pw = pwskills()"
   ]
  },
  {
   "cell_type": "code",
   "execution_count": 3,
   "id": "e66e9c01-9782-4379-bd07-0e0f47dbbc20",
   "metadata": {},
   "outputs": [
    {
     "name": "stdout",
     "output_type": "stream",
     "text": [
      "ankur ankur@gmail.com 7011793539\n"
     ]
    }
   ],
   "source": [
    "pw.student_details(\"ankur\",\"ankur@gmail.com\",7011793539)"
   ]
  },
  {
   "cell_type": "code",
   "execution_count": 12,
   "id": "15b75c43-246c-4e78-9b23-a42c8265c622",
   "metadata": {},
   "outputs": [],
   "source": [
    "class pwskills1 :\n",
    "    \n",
    "    def student_details(self,name,mail_id,number):\n",
    "        print(name,mail_id,number)\n",
    "        \n",
    "    @staticmethod\n",
    "    def mentor_class(list_mentor):\n",
    "        print(list_mentor)\n",
    "        \n",
    "    def mentor(self,mentor_list):\n",
    "        print(mentor_list)"
   ]
  },
  {
   "cell_type": "code",
   "execution_count": 13,
   "id": "5575e572-36ce-45a7-8dea-c05bbbc1f0d1",
   "metadata": {},
   "outputs": [
    {
     "name": "stdout",
     "output_type": "stream",
     "text": [
      "['ank', 'adi']\n"
     ]
    }
   ],
   "source": [
    "pwskills1.mentor_class([\"ank\",\"adi\"])"
   ]
  },
  {
   "cell_type": "code",
   "execution_count": 14,
   "id": "bef0583e-6dda-40d3-8e92-a928c4a7138b",
   "metadata": {},
   "outputs": [],
   "source": [
    "stu1 = pwskills1()"
   ]
  },
  {
   "cell_type": "code",
   "execution_count": 15,
   "id": "dc3ab2b8-d11a-48a8-ae6c-f6958a5bc4e5",
   "metadata": {},
   "outputs": [],
   "source": [
    "stu2 = pwskills1()"
   ]
  },
  {
   "cell_type": "code",
   "execution_count": 16,
   "id": "b25145ec-1689-4deb-a9b0-2b7c7d7ece1a",
   "metadata": {},
   "outputs": [],
   "source": [
    "stu3 = pwskills1()"
   ]
  },
  {
   "cell_type": "code",
   "execution_count": 17,
   "id": "491aa167-98e2-4aca-ac5b-fd2cc75f9faf",
   "metadata": {},
   "outputs": [
    {
     "name": "stdout",
     "output_type": "stream",
     "text": [
      "['ank', 'adi']\n"
     ]
    }
   ],
   "source": [
    "stu1.mentor([\"ank\",\"adi\"])"
   ]
  },
  {
   "cell_type": "code",
   "execution_count": 26,
   "id": "fa8af48a-c514-4701-9674-58e5639b1f84",
   "metadata": {},
   "outputs": [],
   "source": [
    "class pwskills2 :\n",
    "    \n",
    "    def student_details(self,name,mail_id,number):\n",
    "        print(name,mail_id,number)\n",
    "        \n",
    "    @staticmethod\n",
    "    def mentor_mail_id(mail_id_mentor):\n",
    "        print(mail_id_mentor)\n",
    "        \n",
    "    @staticmethod\n",
    "    def mentor_class(list_mentor):\n",
    "        pwskills2.mentor_mail_id([\"ank@gmail.com\",\"adi@gmail.com\"])\n",
    "        print(list_mentor)\n",
    "        \n",
    "    @classmethod\n",
    "    def class_name(cls):\n",
    "        cls.mentor_class([\"ank\",\"adi\"])\n",
    "        \n",
    "    def mentor(self,mentor_list):\n",
    "        print(mentor_list)\n",
    "        self.mentor_class([\"ank\",\"adi\"])"
   ]
  },
  {
   "cell_type": "code",
   "execution_count": 24,
   "id": "33e6340e-aa00-4de1-a37b-4dcd22935066",
   "metadata": {},
   "outputs": [
    {
     "name": "stdout",
     "output_type": "stream",
     "text": [
      "['ank@gmail.com', 'adi@gmail.com']\n",
      "['ank', 'adi']\n"
     ]
    }
   ],
   "source": [
    "pwskills2.class_name()"
   ]
  },
  {
   "cell_type": "code",
   "execution_count": 25,
   "id": "9d95f507-d2e5-4d7e-b639-db45e7b76519",
   "metadata": {},
   "outputs": [
    {
     "name": "stdout",
     "output_type": "stream",
     "text": [
      "['ank@gmail.com', 'adi@gmail.com']\n",
      "['ank', 'adi']\n"
     ]
    }
   ],
   "source": [
    "pwskills2.mentor_class([\"ank\",\"adi\"])"
   ]
  },
  {
   "cell_type": "code",
   "execution_count": 27,
   "id": "a2614f3e-a657-492b-b85e-90b2f8ed973a",
   "metadata": {},
   "outputs": [],
   "source": [
    "pw = pwskills2()"
   ]
  },
  {
   "cell_type": "code",
   "execution_count": 29,
   "id": "9b71b96e-3196-4c7c-850c-875fd6afd23b",
   "metadata": {},
   "outputs": [
    {
     "name": "stdout",
     "output_type": "stream",
     "text": [
      "['ank', 'adi']\n",
      "['ank@gmail.com', 'adi@gmail.com']\n",
      "['ank', 'adi']\n"
     ]
    }
   ],
   "source": [
    "pw.mentor([\"ank\",\"adi\"])"
   ]
  },
  {
   "cell_type": "code",
   "execution_count": null,
   "id": "e941d7af-36b2-4bb4-a0b9-a5f414436067",
   "metadata": {},
   "outputs": [],
   "source": []
  }
 ],
 "metadata": {
  "kernelspec": {
   "display_name": "Python 3 (ipykernel)",
   "language": "python",
   "name": "python3"
  },
  "language_info": {
   "codemirror_mode": {
    "name": "ipython",
    "version": 3
   },
   "file_extension": ".py",
   "mimetype": "text/x-python",
   "name": "python",
   "nbconvert_exporter": "python",
   "pygments_lexer": "ipython3",
   "version": "3.10.8"
  }
 },
 "nbformat": 4,
 "nbformat_minor": 5
}
